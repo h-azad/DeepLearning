{
  "nbformat": 4,
  "nbformat_minor": 0,
  "metadata": {
    "colab": {
      "name": "Cat_Dog_ Recognition.ipynb",
      "private_outputs": true,
      "provenance": [],
      "collapsed_sections": [],
      "authorship_tag": "ABX9TyNrYt9VJk8zeANhQqzZdlrZ",
      "include_colab_link": true
    },
    "kernelspec": {
      "name": "python3",
      "display_name": "Python 3"
    },
    "language_info": {
      "name": "python"
    },
    "accelerator": "TPU"
  },
  "cells": [
    {
      "cell_type": "markdown",
      "metadata": {
        "id": "view-in-github",
        "colab_type": "text"
      },
      "source": [
        "<a href=\"https://colab.research.google.com/github/h-azad/DeepLearning/blob/main/Cat_Dog__Recognition.ipynb\" target=\"_parent\"><img src=\"https://colab.research.google.com/assets/colab-badge.svg\" alt=\"Open In Colab\"/></a>"
      ]
    },
    {
      "cell_type": "code",
      "metadata": {
        "id": "kWmU24SJOHOL"
      },
      "source": [
        "! pip install kaggle"
      ],
      "execution_count": null,
      "outputs": []
    },
    {
      "cell_type": "code",
      "metadata": {
        "id": "cnXNtJVsPPc8"
      },
      "source": [
        "! mkdir ~/.kaggle"
      ],
      "execution_count": null,
      "outputs": []
    },
    {
      "cell_type": "code",
      "metadata": {
        "id": "nPhDxf5jQKm2"
      },
      "source": [
        "! cp kaggle.json ~/.kaggle/"
      ],
      "execution_count": null,
      "outputs": []
    },
    {
      "cell_type": "code",
      "metadata": {
        "id": "WvITsT8bQN7N"
      },
      "source": [
        "! chmod 600 ~/.kaggle/kaggle.json"
      ],
      "execution_count": null,
      "outputs": []
    },
    {
      "cell_type": "code",
      "metadata": {
        "id": "r6UQIaiuQYSC"
      },
      "source": [
        "! kaggle datasets download tongpython/cat-and-dog"
      ],
      "execution_count": null,
      "outputs": []
    },
    {
      "cell_type": "code",
      "metadata": {
        "id": "VKdMZheVQqxH"
      },
      "source": [
        "! unzip cat-and-dog"
      ],
      "execution_count": null,
      "outputs": []
    },
    {
      "cell_type": "code",
      "metadata": {
        "id": "23CK5mSiQ1HH"
      },
      "source": [
        "import os\n",
        "import numpy as np\n",
        "from PIL import Image, ImageTk\n",
        "from io import BytesIO\n",
        "\n",
        "import requests\n",
        "from tkinter import Tk, Label, Canvas, Entry, Button, NW\n",
        "\n",
        "from keras.models import Sequential, load_model\n",
        "from keras.layers import Conv2D, MaxPooling2D, Flatten, Dense\n",
        "from keras.preprocessing.image import ImageDataGenerator, load_img, img_to_array\n",
        "from keras.preprocessing import image as image_utils"
      ],
      "execution_count": null,
      "outputs": []
    },
    {
      "cell_type": "code",
      "metadata": {
        "id": "r3UTDi5sRTFJ"
      },
      "source": [
        "model = Sequential()\n",
        "\n",
        "#Input Layer\n",
        "model.add(Conv2D(32, (3, 3), input_shape = (128, 128, 3), activation = \"relu\"))\n",
        "model.add(MaxPooling2D(pool_size = (2, 2)))\n",
        "\n",
        "#Hidden Layer\n",
        "model.add(Conv2D(64, (3, 3), activation = \"relu\"))\n",
        "model.add(MaxPooling2D(pool_size = (2, 2)))\n",
        "\n",
        "model.add(Conv2D(128, (3, 3), activation = \"relu\"))\n",
        "model.add(MaxPooling2D(pool_size = (2, 2)))\n",
        "\n",
        "model.add(Flatten())\n",
        "\n",
        "#Output Layer\n",
        "model.add(Dense(128, activation = \"relu\"))\n",
        "model.add(Dense(2, activation = \"softmax\"))"
      ],
      "execution_count": null,
      "outputs": []
    },
    {
      "cell_type": "code",
      "metadata": {
        "id": "h07JFWiWRUbJ"
      },
      "source": [
        "model.compile(optimizer = \"adam\",\n",
        "             loss = \"categorical_crossentropy\",\n",
        "             metrics = [\"accuracy\"])"
      ],
      "execution_count": null,
      "outputs": []
    },
    {
      "cell_type": "code",
      "metadata": {
        "id": "sdfXi_7XRZGz"
      },
      "source": [
        "train_datagen = ImageDataGenerator(rescale = 1.0/255,\n",
        "                                  shear_range = 0.2,\n",
        "                                  zoom_range = 0.2,\n",
        "                                  horizontal_flip = True)\n",
        "\n",
        "test_datagen = ImageDataGenerator(rescale = 1.0/255)"
      ],
      "execution_count": null,
      "outputs": []
    },
    {
      "cell_type": "code",
      "metadata": {
        "id": "0lnbpIgBRepa"
      },
      "source": [
        "training_datasets = train_datagen.flow_from_directory(\"training_set/training_set\", target_size = (128, 128), batch_size = 32, class_mode = \"categorical\")\n",
        "testing_datasets = test_datagen.flow_from_directory(\"test_set/test_set\",  target_size = (128, 128), batch_size = 32, class_mode = \"categorical\")"
      ],
      "execution_count": null,
      "outputs": []
    },
    {
      "cell_type": "code",
      "metadata": {
        "id": "GwrLntjeRm18"
      },
      "source": [
        "model.fit(training_datasets, steps_per_epoch = 4000/32, epochs = 50, validation_data = testing_datasets, validation_steps = 1000/32)"
      ],
      "execution_count": null,
      "outputs": []
    },
    {
      "cell_type": "code",
      "metadata": {
        "id": "ZWufJX4fvP0S"
      },
      "source": [
        "! mkdir models"
      ],
      "execution_count": null,
      "outputs": []
    },
    {
      "cell_type": "code",
      "metadata": {
        "id": "8QlGnZ3SvcqK"
      },
      "source": [
        "model.save(\"models/model.h5\")\n",
        "model.save_weights(\"models/model_weights.h5\")"
      ],
      "execution_count": null,
      "outputs": []
    },
    {
      "cell_type": "code",
      "metadata": {
        "id": "th1C2SGGFenn"
      },
      "source": [
        "import matplotlib.pyplot as plt\n"
      ],
      "execution_count": null,
      "outputs": []
    },
    {
      "cell_type": "code",
      "metadata": {
        "id": "uDEFbbYMFK1T"
      },
      "source": [
        "def plotImages(images_arr):\n",
        "  fig, axes = plt.subplots(1, 5, figsize=(20,20))\n",
        "  axes = axes.flatten()\n",
        "  for img, ax in zip(images_arr, axes):\n",
        "    ax.imshow(img)\n",
        "  plt.tight_layout()\n",
        "  plt.show()"
      ],
      "execution_count": null,
      "outputs": []
    },
    {
      "cell_type": "code",
      "metadata": {
        "id": "tisb5g3mFM5-"
      },
      "source": [
        "plotImages([training_datasets[0][0][1] for i in range(0,10)])"
      ],
      "execution_count": null,
      "outputs": []
    },
    {
      "cell_type": "code",
      "metadata": {
        "id": "8kuWx3PRv06C"
      },
      "source": [
        "image_width, image_height = 128, 128\n",
        "model_path = \"models/model.h5\"\n",
        "model_wight_path = \"models/model_weights.h5\"\n",
        "\n",
        "final_model = load_model(model_path) \n",
        "final_model.load_weights(model_wight_path)"
      ],
      "execution_count": null,
      "outputs": []
    },
    {
      "cell_type": "code",
      "metadata": {
        "id": "A7Z5cou7w9om"
      },
      "source": [
        "from IPython.display import display as dsp, Image as iImage"
      ],
      "execution_count": null,
      "outputs": []
    },
    {
      "cell_type": "code",
      "metadata": {
        "id": "-3fmR5XgwEzT"
      },
      "source": [
        "# url = 'https://cdn.pixabay.com/photo/2014/11/30/14/11/cat-551554__340.jpg'\n",
        "# url = ''\n",
        "\n",
        "def Enter():\n",
        "    # global url\n",
        "    # label.configure()\n",
        "    # url = (User_input.get())\n",
        "    # print(url)\n",
        "    \n",
        "    url = input(\"Enter Image Url: \")\n",
        "    print(\"=> Input Image Url: \", url)\n",
        "    \n",
        "    response = requests.get(url)\n",
        "    test_image = Image.open(BytesIO(response.content))\n",
        "    put_image = test_image.resize((400, 400))\n",
        "    test_image = test_image.resize((128, 128))\n",
        "    \n",
        "    \n",
        "    # img = ImageTk.PhotoImage(put_image)\n",
        "    # pic = Label(image = img)\n",
        "    # pic.pack()\n",
        "    \n",
        "    # pic.image = img\n",
        "    test_image = image_utils.img_to_array(test_image)\n",
        "    test_image = np.expand_dims(test_image, axis = 0)\n",
        "    \n",
        "    results = model.predict_on_batch(test_image)\n",
        "    \n",
        "    \n",
        "    if results[0][0] == 1:\n",
        "        res = \"Cat\"\n",
        "    elif  results[0][1] == 1:\n",
        "        res = \"Dog\"\n",
        "        \n",
        "        \n",
        "    # output = Label(window, text = \"Predicted Results: \"+ res, font = (\"Halvetica\", 16))\n",
        "    # output.pack()\n",
        "    # print(results[0])\n",
        "    print(\"***************************\")\n",
        "    print(\"** Predicted Result: \" +res+\" **\")\n",
        "    print(\"***************************\")\n",
        "\n",
        "    dsp(iImage(response.content))"
      ],
      "execution_count": null,
      "outputs": []
    },
    {
      "cell_type": "code",
      "metadata": {
        "id": "Ja-0Bm7azBof"
      },
      "source": [
        "Enter()"
      ],
      "execution_count": null,
      "outputs": []
    },
    {
      "cell_type": "code",
      "metadata": {
        "id": "tg_RmIjizKQv"
      },
      "source": [
        ""
      ],
      "execution_count": null,
      "outputs": []
    }
  ]
}